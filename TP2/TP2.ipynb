{
 "cells": [
  {
   "cell_type": "code",
   "execution_count": 1,
   "metadata": {},
   "outputs": [],
   "source": [
    "import sys\n",
    "import os\n",
    "import cv2 as cv\n",
    "import numpy as np\n",
    "import matplotlib.pyplot as plt"
   ]
  },
  {
   "cell_type": "code",
   "execution_count": 3,
   "metadata": {},
   "outputs": [],
   "source": [
    "def getListDossier() ->list[str]:\n",
    "    trainList = os.listdir(\"../DataTest/extraction/\")\n",
    "    #trainList.remove('extraction')\n",
    "    return trainList"
   ]
  },
  {
   "cell_type": "code",
   "execution_count": 4,
   "metadata": {},
   "outputs": [],
   "source": [
    "listDossier = getListDossier()"
   ]
  },
  {
   "cell_type": "code",
   "execution_count": 7,
   "metadata": {},
   "outputs": [],
   "source": [
    "dictLettres = {}\n",
    "for index in range(35):\n",
    "    dictLettres[index] = []"
   ]
  },
  {
   "cell_type": "code",
   "execution_count": 8,
   "metadata": {},
   "outputs": [],
   "source": [
    "def parcoursDossiers(listDossier, dictLettres):\n",
    "    for dossier in listDossier:\n",
    "        listImg = os.listdir(f\"../DataTest/extraction/{dossier}\")\n",
    "        for imgName in listImg:\n",
    "            img = cv.imread(f\"../DataTest/extraction/{dossier}/{imgName}\")\n",
    "            lettre = imgName.split(\"-\")[1][:4]\n",
    "\n",
    "            hauteur,largeur = img.shape()\n",
    "            nombreEchantillon = 5\n",
    "            for i in range(nombreEchantillon):\n",
    "                #TODO Calculer le vecteur pour i \n",
    "                vecteur = None\n",
    "\n",
    "            dictLettres[lettre].append(vecteur)            "
   ]
  }
 ],
 "metadata": {
  "kernelspec": {
   "display_name": "Python 3.9.7 64-bit",
   "language": "python",
   "name": "python3"
  },
  "language_info": {
   "codemirror_mode": {
    "name": "ipython",
    "version": 3
   },
   "file_extension": ".py",
   "mimetype": "text/x-python",
   "name": "python",
   "nbconvert_exporter": "python",
   "pygments_lexer": "ipython3",
   "version": "3.9.7"
  },
  "orig_nbformat": 4,
  "vscode": {
   "interpreter": {
    "hash": "11938c6bc6919ae2720b4d5011047913343b08a43b18698fd82dedb0d4417594"
   }
  }
 },
 "nbformat": 4,
 "nbformat_minor": 2
}

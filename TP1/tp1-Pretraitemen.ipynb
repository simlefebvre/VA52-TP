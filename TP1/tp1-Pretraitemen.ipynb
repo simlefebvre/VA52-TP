{
 "cells": [
  {
   "cell_type": "code",
   "execution_count": 63,
   "metadata": {},
   "outputs": [],
   "source": [
    "import sys\n",
    "import os\n",
    "import cv2 as cv\n",
    "import numpy as np\n",
    "import matplotlib.pyplot as plt"
   ]
  },
  {
   "cell_type": "code",
   "execution_count": 42,
   "metadata": {},
   "outputs": [],
   "source": [
    "trainList = os.listdir(\"../DataTest/\")"
   ]
  },
  {
   "cell_type": "code",
   "execution_count": 78,
   "metadata": {},
   "outputs": [],
   "source": [
    "def parse_info(nom : str)->dict:\n",
    "    info = {}\n",
    "    l = nom.split('-')\n",
    "    coordAnglesPlaque = []\n",
    "    for coord in l[3].split('_'):\n",
    "        coord = coord.split(\"&\")\n",
    "        coordAnglesPlaque.append([int(coo) for coo in coord])\n",
    "    info['cooAngle']= np.array(coordAnglesPlaque)\n",
    "\n",
    "\n",
    "    info['carac'] = [int(char) for char in l[4].split('_')[2:]]\n",
    "    return nom,info"
   ]
  },
  {
   "cell_type": "code",
   "execution_count": 79,
   "metadata": {},
   "outputs": [],
   "source": [
    "def parseNameList(nameList : list[str]) -> dict:\n",
    "    infoGlobal = {}\n",
    "    for name in nameList :\n",
    "        nom, info = parse_info(name)\n",
    "        infoGlobal[nom] = info\n",
    "    return infoGlobal"
   ]
  },
  {
   "cell_type": "code",
   "execution_count": 80,
   "metadata": {},
   "outputs": [
    {
     "name": "stdout",
     "output_type": "stream",
     "text": [
      "{'047974137931-92_80-44&405_446&537-447&539_68&518_49&407_428&428-0_0_5_25_32_25_5-62-307.jpg': {'cooAngle': array([[447, 539],\n",
      "       [ 68, 518],\n",
      "       [ 49, 407],\n",
      "       [428, 428]]), 'carac': [5, 25, 32, 25, 5]}, '06061302682-90_86-118&467_595&595-598&599_143&599_135&474_590&474-0_0_12_25_32_32_32-93-299.jpg': {'cooAngle': array([[598, 599],\n",
      "       [143, 599],\n",
      "       [135, 474],\n",
      "       [590, 474]]), 'carac': [12, 25, 32, 32, 32]}, '063436302682-90_81-138&450_592&605-606&602_154&584_115&449_567&467-0_0_9_29_22_31_32-49-298.jpg': {'cooAngle': array([[606, 602],\n",
      "       [154, 584],\n",
      "       [115, 449],\n",
      "       [567, 467]]), 'carac': [9, 29, 22, 31, 32]}}\n"
     ]
    }
   ],
   "source": [
    "dic = parseNameList(trainList)\n",
    "\n",
    "print(parseNameList(trainList))"
   ]
  },
  {
   "cell_type": "code",
   "execution_count": 136,
   "metadata": {},
   "outputs": [],
   "source": [
    "def computeHomographie(nom : str, dic : dict) -> np.ndarray:\n",
    "    im = cv.cvtColor(cv.imread(f\"../DataTest/{nom}\"),cv.COLOR_BGR2GRAY)\n",
    "    h, status = cv.findHomography(dic[nom]['cooAngle'],np.array([[110,35],[0,35],[0,0],[110,0]]))\n",
    "    im_dst = cv.warpPerspective(im,h,(111,36))\n",
    "    return im_dst"
   ]
  },
  {
   "cell_type": "code",
   "execution_count": 170,
   "metadata": {},
   "outputs": [
    {
     "data": {
      "text/plain": [
       "<matplotlib.image.AxesImage at 0x1df6e7805b0>"
      ]
     },
     "execution_count": 170,
     "metadata": {},
     "output_type": "execute_result"
    },
    {
     "data": {
      "image/png": "[encoded data removed]",
      "text/plain": [
       "<Figure size 640x480 with 1 Axes>"
      ]
     },
     "metadata": {},
     "output_type": "display_data"
    }
   ],
   "source": [
    "img = computeHomographie('047974137931-92_80-44&405_446&537-447&539_68&518_49&407_428&428-0_0_5_25_32_25_5-62-307.jpg',dic)\n",
    "\n",
    "plt.imshow(img,cmap='gray')"
   ]
  },
  {
   "cell_type": "code",
   "execution_count": 160,
   "metadata": {},
   "outputs": [],
   "source": [
    "def binarize(img : np.ndarray):\n",
    "    imgFinal = []\n",
    "\n",
    "    seuil = 120\n",
    "    minLigne = 5\n",
    "    maxLigne = 27\n",
    "    minCol = 35\n",
    "    maxCol = 105\n",
    "\n",
    "    for num,ligne in enumerate(img):\n",
    "        lign = [0 if (i < seuil or num < minLigne or num > maxLigne or col < minCol or col > maxCol) else 1 for col,i in enumerate(ligne)]\n",
    "        imgFinal.append(lign)\n",
    "    imgFinal = np.array(imgFinal)\n",
    "    plt.imshow(imgFinal,cmap='gray')\n",
    "    return imgFinal"
   ]
  },
  {
   "cell_type": "code",
   "execution_count": 174,
   "metadata": {},
   "outputs": [
    {
     "data": {
      "image/png": "[encoded data removed]",
      "text/plain": [
       "<Figure size 640x480 with 1 Axes>"
      ]
     },
     "metadata": {},
     "output_type": "display_data"
    }
   ],
   "source": [
    "imgFinal = binarize(img)"
   ]
  },
  {
   "cell_type": "code",
   "execution_count": 175,
   "metadata": {},
   "outputs": [],
   "source": [
    "hist = [0] *111\n",
    "for ligne in imgFinal :\n",
    "    for index,val in enumerate(ligne):\n",
    "        hist[index] = hist[index] + val"
   ]
  },
  {
   "cell_type": "code",
   "execution_count": 179,
   "metadata": {},
   "outputs": [],
   "source": [
    "def lookForColumnLetter(hist):\n",
    "    IOList = []\n",
    "    isLetter = False\n",
    "    startLetter = 0\n",
    "    for index, val in enumerate(hist):\n",
    "        if isLetter:\n",
    "            if val == 0:\n",
    "                isLetter = False\n",
    "                IOList.append((startLetter,index))\n",
    "        else:\n",
    "            if val != 0:\n",
    "                isLetter = True\n",
    "                startLetter = index\n",
    "    return IOList"
   ]
  },
  {
   "cell_type": "code",
   "execution_count": null,
   "metadata": {},
   "outputs": [],
   "source": []
  },
  {
   "cell_type": "code",
   "execution_count": 207,
   "metadata": {},
   "outputs": [],
   "source": [
    "def lookForLetter(IOList,imgFinal):\n",
    "    infoLetter = [] #point de départ et hauteur et largeur\n",
    "    hist = [0] * 36\n",
    "    for min,max in IOList:\n",
    "        hist = [0] * 36\n",
    "        for numLigne,ligne in enumerate(imgFinal):\n",
    "            for colone in range(min,max+1):\n",
    "                hist[numLigne] = hist[numLigne] + ligne[colone]\n",
    "\n",
    "        #plt.plot(hist)\n",
    "\n",
    "        isLetter = False\n",
    "        startLetter = 0\n",
    "        for index, val in enumerate(hist):\n",
    "            if isLetter:\n",
    "                if val == 0:\n",
    "                    isLetter = False\n",
    "                    infoLetter.append(((min,startLetter),(index-startLetter,max-min))) #(xdep, ydep),(hauteur,largeur)\n",
    "            else:\n",
    "                if val != 0:\n",
    "                    isLetter = True\n",
    "                    startLetter = index\n",
    "    return infoLetter"
   ]
  },
  {
   "cell_type": "code",
   "execution_count": 182,
   "metadata": {},
   "outputs": [
    {
     "name": "stdout",
     "output_type": "stream",
     "text": [
      "[(36, 47), (54, 57), (65, 75), (83, 86), (93, 106)]\n"
     ]
    }
   ],
   "source": [
    "ioList = lookForColumnLetter(hist)\n",
    "\n",
    "print(ioList)"
   ]
  },
  {
   "cell_type": "code",
   "execution_count": 208,
   "metadata": {},
   "outputs": [
    {
     "data": {
      "text/plain": [
       "[((36, 8), (20, 11)),\n",
       " ((54, 8), (20, 3)),\n",
       " ((65, 8), (20, 10)),\n",
       " ((83, 7), (21, 3)),\n",
       " ((93, 7), (21, 13))]"
      ]
     },
     "execution_count": 208,
     "metadata": {},
     "output_type": "execute_result"
    }
   ],
   "source": [
    "lookForLetter(ioList,imgFinal)"
   ]
  },
  {
   "cell_type": "code",
   "execution_count": 176,
   "metadata": {},
   "outputs": [
    {
     "data": {
      "text/plain": [
       "[<matplotlib.lines.Line2D at 0x1df6e61cfa0>]"
      ]
     },
     "execution_count": 176,
     "metadata": {},
     "output_type": "execute_result"
    },
    {
     "data": {
      "image/png": "[encoded data removed]",
      "text/plain": [
       "<Figure size 640x480 with 1 Axes>"
      ]
     },
     "metadata": {},
     "output_type": "display_data"
    }
   ],
   "source": [
    "plt.plot(hist)"
   ]
  },
  {
   "cell_type": "markdown",
   "metadata": {},
   "source": [
    "TODO :\n",
    "\n",
    "sauvegarder les info de la position des boxs autours des lettres"
   ]
  }
 ],
 "metadata": {
  "kernelspec": {
   "display_name": "Python 3.9.7 64-bit (system)",
   "language": "python",
   "name": "python3"
  },
  "language_info": {
   "codemirror_mode": {
    "name": "ipython",
    "version": 3
   },
   "file_extension": ".py",
   "mimetype": "text/x-python",
   "name": "python",
   "nbconvert_exporter": "python",
   "pygments_lexer": "ipython3",
   "version": "3.9.7"
  },
  "orig_nbformat": 4,
  "vscode": {
   "interpreter": {
    "hash": "11938c6bc6919ae2720b4d5011047913343b08a43b18698fd82dedb0d4417594"
   }
  }
 },
 "nbformat": 4,
 "nbformat_minor": 2
}

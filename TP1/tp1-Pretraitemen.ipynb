{
 "cells": [
  {
   "cell_type": "code",
   "execution_count": 75,
   "metadata": {},
   "outputs": [],
   "source": [
    "import sys\n",
    "import os\n",
    "import cv2 as cv\n",
    "import numpy as np\n",
    "import matplotlib.pyplot as plt"
   ]
  },
  {
   "cell_type": "code",
   "execution_count": 76,
   "metadata": {},
   "outputs": [],
   "source": [
    "def getTrainList() ->list[str]:\n",
    "    trainList = os.listdir(\"../CCPD_SubDataset/CCPD_SubDataset/train/\")\n",
    "    #trainList.remove('extraction')\n",
    "    return trainList"
   ]
  },
  {
   "cell_type": "code",
   "execution_count": 77,
   "metadata": {},
   "outputs": [],
   "source": [
    "def parse_info(nom : str)->dict:\n",
    "    info = {}\n",
    "    l = nom.split('-')\n",
    "    coordAnglesPlaque = []\n",
    "    for coord in l[3].split('_'):\n",
    "        coord = coord.split(\"&\")\n",
    "        coordAnglesPlaque.append([int(coo) for coo in coord])\n",
    "    info['cooAngle']= np.array(coordAnglesPlaque)\n",
    "\n",
    "\n",
    "    info['carac'] = [int(char) for char in l[4].split('_')[2:]]\n",
    "    return nom,info"
   ]
  },
  {
   "cell_type": "code",
   "execution_count": 78,
   "metadata": {},
   "outputs": [],
   "source": [
    "def parseNameList(nameList : list[str]) -> dict:\n",
    "    infoGlobal = {}\n",
    "    for name in nameList :\n",
    "        nom, info = parse_info(name)\n",
    "        infoGlobal[nom] = info\n",
    "    return infoGlobal"
   ]
  },
  {
   "cell_type": "code",
   "execution_count": 79,
   "metadata": {},
   "outputs": [
    {
     "data": {
      "text/plain": [
       "'dic = parseNameList(trainList)\\n\\nprint(parseNameList(trainList))'"
      ]
     },
     "execution_count": 79,
     "metadata": {},
     "output_type": "execute_result"
    }
   ],
   "source": [
    "\"\"\"dic = parseNameList(trainList)\n",
    "\n",
    "print(parseNameList(trainList))\"\"\""
   ]
  },
  {
   "cell_type": "code",
   "execution_count": 94,
   "metadata": {},
   "outputs": [],
   "source": [
    "def computeHomographie(nom : str, dic : dict) -> np.ndarray:\n",
    "    im = cv.cvtColor(cv.imread(f\"../CCPD_SubDataset/CCPD_SubDataset/train/{nom}\"),cv.COLOR_BGR2GRAY)\n",
    "    h, status = cv.findHomography(dic[nom]['cooAngle'],np.array([[110,35],[0,35],[0,0],[110,0]]))\n",
    "    im_dst = cv.warpPerspective(im,h,(111,36))\n",
    "    return im_dst"
   ]
  },
  {
   "cell_type": "code",
   "execution_count": 81,
   "metadata": {},
   "outputs": [
    {
     "data": {
      "text/plain": [
       "<matplotlib.image.AxesImage at 0x23d922a84c0>"
      ]
     },
     "execution_count": 81,
     "metadata": {},
     "output_type": "execute_result"
    },
    {
     "data": {
      "image/png": "[encoded data removed]",
      "text/plain": [
       "<Figure size 640x480 with 1 Axes>"
      ]
     },
     "metadata": {},
     "output_type": "display_data"
    }
   ],
   "source": [
    "img = computeHomographie('047974137931-92_80-44&405_446&537-447&539_68&518_49&407_428&428-0_0_5_25_32_25_5-62-307.jpg',dic)\n",
    "\n",
    "plt.imshow(img,cmap='gray')"
   ]
  },
  {
   "cell_type": "code",
   "execution_count": 111,
   "metadata": {},
   "outputs": [],
   "source": [
    "def binarize(img : np.ndarray, seuil = 120):\n",
    "    imgFinal = []\n",
    "    minLigne = 5\n",
    "    maxLigne = 27\n",
    "    minCol = 35\n",
    "    maxCol = 105\n",
    "\n",
    "    for num,ligne in enumerate(img):\n",
    "        lign = [0 if (i < seuil or num < minLigne or num > maxLigne or col < minCol or col > maxCol) else 255 for col,i in enumerate(ligne)]\n",
    "        imgFinal.append(lign)\n",
    "    imgFinal = np.array(imgFinal)\n",
    "    plt.imshow(imgFinal,cmap='gray')\n",
    "    return imgFinal"
   ]
  },
  {
   "cell_type": "code",
   "execution_count": 83,
   "metadata": {},
   "outputs": [
    {
     "data": {
      "image/png": "[encoded data removed]",
      "text/plain": [
       "<Figure size 640x480 with 1 Axes>"
      ]
     },
     "metadata": {},
     "output_type": "display_data"
    }
   ],
   "source": [
    "imgFinal = binarize(img)"
   ]
  },
  {
   "cell_type": "code",
   "execution_count": 84,
   "metadata": {},
   "outputs": [],
   "source": [
    "def computeHorizontalProfil(imgFinal):\n",
    "    hist = [0] *111\n",
    "    for ligne in imgFinal :\n",
    "        for index,val in enumerate(ligne):\n",
    "            hist[index] = hist[index] + val\n",
    "    return hist"
   ]
  },
  {
   "cell_type": "code",
   "execution_count": 85,
   "metadata": {},
   "outputs": [],
   "source": [
    "def lookForColumnLetter(hist):\n",
    "    IOList = []\n",
    "    isLetter = False\n",
    "    startLetter = 0\n",
    "    for index, val in enumerate(hist):\n",
    "        if isLetter:\n",
    "            if val == 0:\n",
    "                isLetter = False\n",
    "                IOList.append((startLetter,index))\n",
    "        else:\n",
    "            if val != 0:\n",
    "                isLetter = True\n",
    "                startLetter = index\n",
    "    return IOList"
   ]
  },
  {
   "cell_type": "code",
   "execution_count": 86,
   "metadata": {},
   "outputs": [],
   "source": [
    "def lookForLetter(IOList,imgFinal):\n",
    "    infoLetter = [] #point de départ et hauteur et largeur\n",
    "    hist = [0] * 36\n",
    "    for min,max in IOList:\n",
    "        hist = [0] * 36\n",
    "        for numLigne,ligne in enumerate(imgFinal):\n",
    "            for colone in range(min,max+1):\n",
    "                hist[numLigne] = hist[numLigne] + ligne[colone]\n",
    "\n",
    "        #plt.plot(hist)\n",
    "\n",
    "        isLetter = False\n",
    "        startLetter = 0\n",
    "        for index, val in enumerate(hist):\n",
    "            if isLetter:\n",
    "                if val == 0:\n",
    "                    isLetter = False\n",
    "                    infoLetter.append(((min,startLetter),(index-startLetter,max-min))) #(xdep, ydep),(hauteur,largeur)\n",
    "            else:\n",
    "                if val != 0:\n",
    "                    isLetter = True\n",
    "                    startLetter = index\n",
    "    return infoLetter"
   ]
  },
  {
   "cell_type": "code",
   "execution_count": 87,
   "metadata": {},
   "outputs": [
    {
     "name": "stdout",
     "output_type": "stream",
     "text": [
      "[(36, 47), (54, 57), (65, 75), (83, 86), (93, 106)]\n"
     ]
    }
   ],
   "source": [
    "ioList = lookForColumnLetter(hist)\n",
    "\n",
    "print(ioList)"
   ]
  },
  {
   "cell_type": "code",
   "execution_count": 88,
   "metadata": {},
   "outputs": [],
   "source": [
    "letters = lookForLetter(ioList,imgFinal)"
   ]
  },
  {
   "cell_type": "code",
   "execution_count": 89,
   "metadata": {},
   "outputs": [
    {
     "data": {
      "text/plain": [
       "[<matplotlib.lines.Line2D at 0x23d922f5b80>]"
      ]
     },
     "execution_count": 89,
     "metadata": {},
     "output_type": "execute_result"
    },
    {
     "data": {
      "image/png": "[encoded data removed]",
      "text/plain": [
       "<Figure size 640x480 with 1 Axes>"
      ]
     },
     "metadata": {},
     "output_type": "display_data"
    }
   ],
   "source": [
    "plt.plot(hist)"
   ]
  },
  {
   "cell_type": "markdown",
   "metadata": {},
   "source": [
    "TODO :\n",
    "\n",
    "sauvegarder les info de la position des boxs autours des lettres"
   ]
  },
  {
   "cell_type": "code",
   "execution_count": 124,
   "metadata": {},
   "outputs": [],
   "source": [
    "def saveImg(img,nom,letters:list[tuple[tuple[int,int],tuple[int,int]]],dict):\n",
    "    if len(letters) < 5 :\n",
    "        return\n",
    "    ID = nom.split('-')[0]\n",
    "    listCaract = dict[nom]['carac']\n",
    "    if not os.path.isdir(f\"../DataTest/extraction/{ID}\"):\n",
    "        os.mkdir(f\"../DataTest/extraction/{ID}\")\n",
    "    \n",
    "    for index,val in enumerate(zip(letters,listCaract)):\n",
    "        letter,caract = val\n",
    "        coo,dimention = letter\n",
    "        x,y = coo\n",
    "        h,l = dimention\n",
    "        x2 = x + l\n",
    "        y2 = y+h\n",
    "        newImg = img[y:y2,x:x2]\n",
    "        \n",
    "        cv.imwrite(f\"../DataTest/extraction/{ID}/{index}-{caract}.jpg\",newImg)\n",
    "        #plt.imshow(newImg,cmap='gray')\n"
   ]
  },
  {
   "cell_type": "code",
   "execution_count": 91,
   "metadata": {},
   "outputs": [],
   "source": [
    "#name = '047974137931-92_80-44&405_446&537-447&539_68&518_49&407_428&428-0_0_5_25_32_25_5-62-307.jpg'\n",
    "#saveImg(imgFinal,name,letters,dic)"
   ]
  },
  {
   "cell_type": "code",
   "execution_count": 92,
   "metadata": {},
   "outputs": [],
   "source": [
    "def main():\n",
    "    trainList = getTrainList()\n",
    "\n",
    "    dic = parseNameList(trainList)\n",
    "\n",
    "    for imgName in dic.keys():\n",
    "        img = computeHomographie(imgName,dic)\n",
    "        imgBin = binarize(img)\n",
    "        \n",
    "        #Creation des profils horizontaux et verticaux\n",
    "        hist = computeHorizontalProfil(imgBin)\n",
    "        ioList = lookForColumnLetter(hist)\n",
    "        #Localisation des lettres\n",
    "        letters = lookForLetter(ioList,imgBin)\n",
    "        saveImg(imgBin,imgName,letters,dic)"
   ]
  },
  {
   "cell_type": "code",
   "execution_count": 95,
   "metadata": {},
   "outputs": [
    {
     "data": {
      "image/png": "[encoded data removed]",
      "text/plain": [
       "<Figure size 640x480 with 1 Axes>"
      ]
     },
     "metadata": {},
     "output_type": "display_data"
    }
   ],
   "source": [
    "main()"
   ]
  },
  {
   "cell_type": "code",
   "execution_count": 117,
   "metadata": {},
   "outputs": [],
   "source": [
    "def computeOhmegaBackground(T : int, histo):\n",
    "    sum = 0\n",
    "    for i in range(T+1):\n",
    "        sum += histo[i]\n",
    "    return sum\n",
    "\n",
    "def computeMu(ohmega, borneMin, borneMax, histo):\n",
    "    sum = 0\n",
    "    #print(borneMax)\n",
    "    for i in range(borneMin,borneMax):\n",
    "        sum += i * histo[i]\n",
    "    return sum/ohmega\n",
    "\n",
    "def Otsu(histo):\n",
    "    sigma2Bmax = 0\n",
    "    Tmax = 0\n",
    "    for T in range(255):\n",
    "        ohmB = computeOhmegaBackground(T,histo)\n",
    "        ohmF = 1- ohmB\n",
    "\n",
    "        muB = computeMu(ohmB,0,T,histo)\n",
    "        muF = computeMu(ohmF,T+1,255,histo)\n",
    "\n",
    "        sigma2B = ohmB*ohmF*(muB-muF)**2\n",
    "       \n",
    "        if sigma2B > sigma2Bmax:\n",
    "            sigma2Bmax = sigma2B\n",
    "            Tmax = T\n",
    "    return Tmax\n",
    "\n",
    "def getHisto(img):\n",
    "    imgsplit = cv.split(img)\n",
    "    return cv.calcHist(imgsplit,[0],None,[255],(0,256))\n"
   ]
  },
  {
   "cell_type": "code",
   "execution_count": 125,
   "metadata": {},
   "outputs": [
    {
     "name": "stderr",
     "output_type": "stream",
     "text": [
      "C:\\Users\\slefebvr\\AppData\\Local\\Temp\\ipykernel_10868\\30868993.py:12: RuntimeWarning: invalid value encountered in true_divide\n",
      "  return sum/ohmega\n"
     ]
    },
    {
     "data": {
      "image/png": "[encoded data removed]",
      "text/plain": [
       "<Figure size 640x480 with 1 Axes>"
      ]
     },
     "metadata": {},
     "output_type": "display_data"
    }
   ],
   "source": [
    "trainList = getTrainList()\n",
    "\n",
    "dic = parseNameList(trainList)\n",
    "kernel = np.array([[0, 1, 0], [1, 1, 1], [0, 1 , 0]])\n",
    "kernel = np.ones((2,2))\n",
    "for imgName in dic.keys():\n",
    "    img = computeHomographie(imgName,dic)\n",
    "\n",
    "    hauteur_Otsu,largeur_Otsu = img.shape\n",
    "    histoOtsu = getHisto(img)/(hauteur_Otsu*largeur_Otsu)\n",
    "    seuilOtsu = Otsu(histoOtsu)\n",
    "\n",
    "    imgBin = binarize(img, seuilOtsu)\n",
    "    imgBin = cv.morphologyEx(imgBin.astype('uint8'), cv.MORPH_OPEN, kernel.astype('uint8'))\n",
    "    #print(imgName)\n",
    "    #plt.imshow(imgBin)\n",
    "    #plt.show()\n",
    "    #Creation des profils horizontaux et verticaux\n",
    "    hist = computeHorizontalProfil(imgBin)\n",
    "    ioList = lookForColumnLetter(hist)\n",
    "    #Localisation des lettres\n",
    "    letters = lookForLetter(ioList,imgBin)\n",
    "    saveImg(imgBin,imgName,letters,dic)"
   ]
  }
 ],
 "metadata": {
  "kernelspec": {
   "display_name": "Python 3.9.7 64-bit (system)",
   "language": "python",
   "name": "python3"
  },
  "language_info": {
   "codemirror_mode": {
    "name": "ipython",
    "version": 3
   },
   "file_extension": ".py",
   "mimetype": "text/x-python",
   "name": "python",
   "nbconvert_exporter": "python",
   "pygments_lexer": "ipython3",
   "version": "3.9.7"
  },
  "orig_nbformat": 4,
  "vscode": {
   "interpreter": {
    "hash": "11938c6bc6919ae2720b4d5011047913343b08a43b18698fd82dedb0d4417594"
   }
  }
 },
 "nbformat": 4,
 "nbformat_minor": 2
}
